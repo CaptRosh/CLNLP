{
 "cells": [
  {
   "cell_type": "markdown",
   "metadata": {},
   "source": [
    "<h1>Neha Kulkarni</h1> \n",
    "<h2>A060 BTech. IT SEM 7</h2>\n",
    "\n",
    "<h3>Computational Linguistics and Natural Language Processing Lab <br>\n",
    "Experiment 7\n",
    "</h3>"
   ]
  },
  {
   "cell_type": "code",
   "execution_count": 1,
   "metadata": {},
   "outputs": [
    {
     "data": {
      "text/plain": [
       "{'last_letter': 'k'}"
      ]
     },
     "execution_count": 1,
     "metadata": {},
     "output_type": "execute_result"
    }
   ],
   "source": [
    "def gender_features(word):\n",
    "    return {'last_letter': word[-1]}\n",
    "gender_features('Shrek')"
   ]
  },
  {
   "cell_type": "code",
   "execution_count": 2,
   "metadata": {},
   "outputs": [],
   "source": [
    "from nltk.corpus import names\n",
    "labeled_names = ([(name, 'male') for name in names.words('male.txt')] + [(name, 'female') for name in names.words('female.txt')])\n",
    "import random\n",
    "random.shuffle(labeled_names)"
   ]
  },
  {
   "cell_type": "code",
   "execution_count": 3,
   "metadata": {},
   "outputs": [],
   "source": [
    "import nltk\n",
    "featuresets = [(gender_features(n), gender) for (n, gender) in labeled_names]\n",
    "train_set, test_set = featuresets[500:], featuresets[:500]\n",
    "classifier = nltk.NaiveBayesClassifier.train(train_set)"
   ]
  },
  {
   "cell_type": "code",
   "execution_count": 4,
   "metadata": {},
   "outputs": [
    {
     "data": {
      "text/plain": [
       "'male'"
      ]
     },
     "execution_count": 4,
     "metadata": {},
     "output_type": "execute_result"
    }
   ],
   "source": [
    "classifier.classify(gender_features('Neo'))"
   ]
  },
  {
   "cell_type": "code",
   "execution_count": 5,
   "metadata": {},
   "outputs": [
    {
     "data": {
      "text/plain": [
       "'female'"
      ]
     },
     "execution_count": 5,
     "metadata": {},
     "output_type": "execute_result"
    }
   ],
   "source": [
    "classifier.classify(gender_features('Trinity'))"
   ]
  },
  {
   "cell_type": "code",
   "execution_count": 6,
   "metadata": {},
   "outputs": [
    {
     "name": "stdout",
     "output_type": "stream",
     "text": [
      "0.75\n"
     ]
    }
   ],
   "source": [
    "print(nltk.classify.accuracy(classifier, test_set))"
   ]
  },
  {
   "cell_type": "code",
   "execution_count": 7,
   "metadata": {},
   "outputs": [
    {
     "name": "stdout",
     "output_type": "stream",
     "text": [
      "Most Informative Features\n",
      "             last_letter = 'a'            female : male   =     34.5 : 1.0\n",
      "             last_letter = 'k'              male : female =     31.8 : 1.0\n",
      "             last_letter = 'f'              male : female =     16.0 : 1.0\n",
      "             last_letter = 'p'              male : female =     11.9 : 1.0\n",
      "             last_letter = 'v'              male : female =     11.2 : 1.0\n"
     ]
    }
   ],
   "source": [
    "classifier.show_most_informative_features(5)"
   ]
  },
  {
   "cell_type": "code",
   "execution_count": 8,
   "metadata": {},
   "outputs": [],
   "source": [
    "from nltk.classify import apply_features\n",
    "train_set = apply_features(gender_features, labeled_names[500:])\n",
    "test_set = apply_features(gender_features, labeled_names[:500])"
   ]
  },
  {
   "cell_type": "code",
   "execution_count": 9,
   "metadata": {},
   "outputs": [],
   "source": [
    "def gender_features2(name):\n",
    "    features = {}\n",
    "    features[\"first_letter\"] = name[0].lower()\n",
    "    features[\"last_letter\"] = name[-1].lower()\n",
    "    for letter in 'abcdefghijklmnopqrstuvwxyz':\n",
    "        features[\"count({})\".format(letter)] = name.lower().count(letter)\n",
    "        features[\"has({})\".format(letter)] = (letter in name.lower())\n",
    "    return features"
   ]
  },
  {
   "cell_type": "code",
   "execution_count": 10,
   "metadata": {},
   "outputs": [
    {
     "data": {
      "text/plain": [
       "{'first_letter': 'j',\n",
       " 'last_letter': 'n',\n",
       " 'count(a)': 0,\n",
       " 'has(a)': False,\n",
       " 'count(b)': 0,\n",
       " 'has(b)': False,\n",
       " 'count(c)': 0,\n",
       " 'has(c)': False,\n",
       " 'count(d)': 0,\n",
       " 'has(d)': False,\n",
       " 'count(e)': 0,\n",
       " 'has(e)': False,\n",
       " 'count(f)': 0,\n",
       " 'has(f)': False,\n",
       " 'count(g)': 0,\n",
       " 'has(g)': False,\n",
       " 'count(h)': 1,\n",
       " 'has(h)': True,\n",
       " 'count(i)': 0,\n",
       " 'has(i)': False,\n",
       " 'count(j)': 1,\n",
       " 'has(j)': True,\n",
       " 'count(k)': 0,\n",
       " 'has(k)': False,\n",
       " 'count(l)': 0,\n",
       " 'has(l)': False,\n",
       " 'count(m)': 0,\n",
       " 'has(m)': False,\n",
       " 'count(n)': 1,\n",
       " 'has(n)': True,\n",
       " 'count(o)': 1,\n",
       " 'has(o)': True,\n",
       " 'count(p)': 0,\n",
       " 'has(p)': False,\n",
       " 'count(q)': 0,\n",
       " 'has(q)': False,\n",
       " 'count(r)': 0,\n",
       " 'has(r)': False,\n",
       " 'count(s)': 0,\n",
       " 'has(s)': False,\n",
       " 'count(t)': 0,\n",
       " 'has(t)': False,\n",
       " 'count(u)': 0,\n",
       " 'has(u)': False,\n",
       " 'count(v)': 0,\n",
       " 'has(v)': False,\n",
       " 'count(w)': 0,\n",
       " 'has(w)': False,\n",
       " 'count(x)': 0,\n",
       " 'has(x)': False,\n",
       " 'count(y)': 0,\n",
       " 'has(y)': False,\n",
       " 'count(z)': 0,\n",
       " 'has(z)': False}"
      ]
     },
     "execution_count": 10,
     "metadata": {},
     "output_type": "execute_result"
    }
   ],
   "source": [
    "gender_features2('John') "
   ]
  },
  {
   "cell_type": "code",
   "execution_count": 11,
   "metadata": {},
   "outputs": [
    {
     "name": "stdout",
     "output_type": "stream",
     "text": [
      "0.784\n"
     ]
    }
   ],
   "source": [
    "featuresets = [(gender_features2(n), gender) for (n, gender) in labeled_names]\n",
    "train_set, test_set = featuresets[500:], featuresets[:500]\n",
    "classifier = nltk.NaiveBayesClassifier.train(train_set)\n",
    "print(nltk.classify.accuracy(classifier, test_set))"
   ]
  },
  {
   "cell_type": "code",
   "execution_count": 12,
   "metadata": {},
   "outputs": [],
   "source": [
    "train_names = labeled_names[1500:]\n",
    "devtest_names = labeled_names[500:1500]\n",
    "test_names = labeled_names[:500]"
   ]
  },
  {
   "cell_type": "code",
   "execution_count": 14,
   "metadata": {},
   "outputs": [
    {
     "name": "stdout",
     "output_type": "stream",
     "text": [
      "0.774\n"
     ]
    }
   ],
   "source": [
    "train_set = [(gender_features(n), gender) for (n, gender) in train_names]\n",
    "devtest_set = [(gender_features(n), gender) for (n, gender) in devtest_names]\n",
    "test_set = [(gender_features(n), gender) for (n, gender) in test_names]\n",
    "classifier = nltk.NaiveBayesClassifier.train(train_set)\n",
    "print(nltk.classify.accuracy(classifier, devtest_set)) "
   ]
  },
  {
   "cell_type": "code",
   "execution_count": 15,
   "metadata": {},
   "outputs": [],
   "source": [
    "errors = []\n",
    "for (name, tag) in devtest_names:\n",
    "    guess = classifier.classify(gender_features(name))\n",
    "    if guess != tag:\n",
    "        errors.append((tag, guess, name))"
   ]
  },
  {
   "cell_type": "code",
   "execution_count": 16,
   "metadata": {},
   "outputs": [
    {
     "name": "stdout",
     "output_type": "stream",
     "text": [
      "correct=female   guess=male     name=Abigail                       \n",
      "correct=female   guess=male     name=Adrian                        \n",
      "correct=female   guess=male     name=Alison                        \n",
      "correct=female   guess=male     name=April                         \n",
      "correct=female   guess=male     name=Arabel                        \n",
      "correct=female   guess=male     name=Ayn                           \n",
      "correct=female   guess=male     name=Bert                          \n",
      "correct=female   guess=male     name=Bridget                       \n",
      "correct=female   guess=male     name=Carmel                        \n",
      "correct=female   guess=male     name=Caron                         \n",
      "correct=female   guess=male     name=Caryn                         \n",
      "correct=female   guess=male     name=Cass                          \n",
      "correct=female   guess=male     name=Catlin                        \n",
      "correct=female   guess=male     name=Charis                        \n",
      "correct=female   guess=male     name=Christan                      \n",
      "correct=female   guess=male     name=Christian                     \n",
      "correct=female   guess=male     name=Chrystel                      \n",
      "correct=female   guess=male     name=Cindelyn                      \n",
      "correct=female   guess=male     name=Clair                         \n",
      "correct=female   guess=male     name=Cristin                       \n",
      "correct=female   guess=male     name=Darryl                        \n",
      "correct=female   guess=male     name=Daveen                        \n",
      "correct=female   guess=male     name=Dawn                          \n",
      "correct=female   guess=male     name=Denys                         \n",
      "correct=female   guess=male     name=Devan                         \n",
      "correct=female   guess=male     name=Devon                         \n",
      "correct=female   guess=male     name=Diann                         \n",
      "correct=female   guess=male     name=Doralin                       \n",
      "correct=female   guess=male     name=Ealasaid                      \n",
      "correct=female   guess=male     name=Eilis                         \n",
      "correct=female   guess=male     name=Em                            \n",
      "correct=female   guess=male     name=Enid                          \n",
      "correct=female   guess=male     name=Estell                        \n",
      "correct=female   guess=male     name=Ethelind                      \n",
      "correct=female   guess=male     name=Farrand                       \n",
      "correct=female   guess=male     name=Francis                       \n",
      "correct=female   guess=male     name=Gaynor                        \n",
      "correct=female   guess=male     name=Gill                          \n",
      "correct=female   guess=male     name=Gretal                        \n",
      "correct=female   guess=male     name=Ines                          \n",
      "correct=female   guess=male     name=Isador                        \n",
      "correct=female   guess=male     name=Ivett                         \n",
      "correct=female   guess=male     name=Janot                         \n",
      "correct=female   guess=male     name=Jean                          \n",
      "correct=female   guess=male     name=Jessalin                      \n",
      "correct=female   guess=male     name=Jo                            \n",
      "correct=female   guess=male     name=Joell                         \n",
      "correct=female   guess=male     name=Joellen                       \n",
      "correct=female   guess=male     name=Jonell                        \n",
      "correct=female   guess=male     name=Jordain                       \n",
      "correct=female   guess=male     name=Joselyn                       \n",
      "correct=female   guess=male     name=Joyan                         \n",
      "correct=female   guess=male     name=Joyann                        \n",
      "correct=female   guess=male     name=Karlen                        \n",
      "correct=female   guess=male     name=Kass                          \n",
      "correct=female   guess=male     name=Katharyn                      \n",
      "correct=female   guess=male     name=Keriann                       \n",
      "correct=female   guess=male     name=Kristin                       \n",
      "correct=female   guess=male     name=Krystal                       \n",
      "correct=female   guess=male     name=Kylen                         \n",
      "correct=female   guess=male     name=Lark                          \n",
      "correct=female   guess=male     name=Laurel                        \n",
      "correct=female   guess=male     name=Lauren                        \n",
      "correct=female   guess=male     name=Lauryn                        \n",
      "correct=female   guess=male     name=Leland                        \n",
      "correct=female   guess=male     name=Lillis                        \n",
      "correct=female   guess=male     name=Lorilyn                       \n",
      "correct=female   guess=male     name=Lorrin                        \n",
      "correct=female   guess=male     name=Mab                           \n",
      "correct=female   guess=male     name=Mabel                         \n",
      "correct=female   guess=male     name=Madlin                        \n",
      "correct=female   guess=male     name=Maren                         \n",
      "correct=female   guess=male     name=Marie-Ann                     \n",
      "correct=female   guess=male     name=Maryann                       \n",
      "correct=female   guess=male     name=Marylou                       \n",
      "correct=female   guess=male     name=Meg                           \n",
      "correct=female   guess=male     name=Meghann                       \n",
      "correct=female   guess=male     name=Merilyn                       \n",
      "correct=female   guess=male     name=Milissent                     \n",
      "correct=female   guess=male     name=Miran                         \n",
      "correct=female   guess=male     name=Mureil                        \n",
      "correct=female   guess=male     name=Peg                           \n",
      "correct=female   guess=male     name=Pegeen                        \n",
      "correct=female   guess=male     name=Robin                         \n",
      "correct=female   guess=male     name=Rosamond                      \n",
      "correct=female   guess=male     name=Roslyn                        \n",
      "correct=female   guess=male     name=Scarlet                       \n",
      "correct=female   guess=male     name=Shannon                       \n",
      "correct=female   guess=male     name=Shanon                        \n",
      "correct=female   guess=male     name=Sherill                       \n",
      "correct=female   guess=male     name=Shir                          \n",
      "correct=female   guess=male     name=Shirl                         \n",
      "correct=female   guess=male     name=Shirleen                      \n",
      "correct=female   guess=male     name=Tamiko                        \n",
      "correct=female   guess=male     name=Thomasin                      \n",
      "correct=female   guess=male     name=Wallis                        \n",
      "correct=male     guess=female   name=Addie                         \n",
      "correct=male     guess=female   name=Adolph                        \n",
      "correct=male     guess=female   name=Amory                         \n",
      "correct=male     guess=female   name=Andrey                        \n",
      "correct=male     guess=female   name=Andy                          \n",
      "correct=male     guess=female   name=Aristotle                     \n",
      "correct=male     guess=female   name=Arne                          \n",
      "correct=male     guess=female   name=Ashish                        \n",
      "correct=male     guess=female   name=Baily                         \n",
      "correct=male     guess=female   name=Barnabe                       \n",
      "correct=male     guess=female   name=Beale                         \n",
      "correct=male     guess=female   name=Bennie                        \n",
      "correct=male     guess=female   name=Bjorne                        \n",
      "correct=male     guess=female   name=Broddy                        \n",
      "correct=male     guess=female   name=Brooke                        \n",
      "correct=male     guess=female   name=Bryce                         \n",
      "correct=male     guess=female   name=Carlyle                       \n",
      "correct=male     guess=female   name=Cary                          \n",
      "correct=male     guess=female   name=Chaddie                       \n",
      "correct=male     guess=female   name=Chaunce                       \n",
      "correct=male     guess=female   name=Clare                         \n",
      "correct=male     guess=female   name=Clemente                      \n",
      "correct=male     guess=female   name=Cobby                         \n",
      "correct=male     guess=female   name=Constantine                   \n",
      "correct=male     guess=female   name=Corrie                        \n",
      "correct=male     guess=female   name=Daffy                         \n",
      "correct=male     guess=female   name=Danie                         \n",
      "correct=male     guess=female   name=Davidde                       \n",
      "correct=male     guess=female   name=Davide                        \n",
      "correct=male     guess=female   name=Dominique                     \n",
      "correct=male     guess=female   name=Dory                          \n",
      "correct=male     guess=female   name=Durante                       \n",
      "correct=male     guess=female   name=Dwane                         \n",
      "correct=male     guess=female   name=Earle                         \n",
      "correct=male     guess=female   name=Ferdy                         \n",
      "correct=male     guess=female   name=Filipe                        \n",
      "correct=male     guess=female   name=Fonzie                        \n",
      "correct=male     guess=female   name=Franky                        \n",
      "correct=male     guess=female   name=Gabriele                      \n",
      "correct=male     guess=female   name=Garcia                        \n",
      "correct=male     guess=female   name=Garry                         \n",
      "correct=male     guess=female   name=Geoffrey                      \n",
      "correct=male     guess=female   name=Geoffry                       \n",
      "correct=male     guess=female   name=Georgie                       \n",
      "correct=male     guess=female   name=Gere                          \n",
      "correct=male     guess=female   name=Gerri                         \n",
      "correct=male     guess=female   name=Godfree                       \n",
      "correct=male     guess=female   name=Graehme                       \n",
      "correct=male     guess=female   name=Guthrie                       \n",
      "correct=male     guess=female   name=Hadley                        \n",
      "correct=male     guess=female   name=Herculie                      \n",
      "correct=male     guess=female   name=Hillary                       \n",
      "correct=male     guess=female   name=Hirsch                        \n",
      "correct=male     guess=female   name=Holly                         \n",
      "correct=male     guess=female   name=Hugh                          \n",
      "correct=male     guess=female   name=Ikey                          \n",
      "correct=male     guess=female   name=Jaime                         \n",
      "correct=male     guess=female   name=Jean-Christophe               \n",
      "correct=male     guess=female   name=Jedediah                      \n",
      "correct=male     guess=female   name=Jeramie                       \n",
      "correct=male     guess=female   name=Jodie                         \n",
      "correct=male     guess=female   name=Joe                           \n",
      "correct=male     guess=female   name=Juanita                       \n",
      "correct=male     guess=female   name=Judith                        \n",
      "correct=male     guess=female   name=Kingsly                       \n",
      "correct=male     guess=female   name=Larry                         \n",
      "correct=male     guess=female   name=Lesley                        \n",
      "correct=male     guess=female   name=Locke                         \n",
      "correct=male     guess=female   name=Luce                          \n",
      "correct=male     guess=female   name=Mackenzie                     \n",
      "correct=male     guess=female   name=Manish                        \n",
      "correct=male     guess=female   name=Marietta                      \n",
      "correct=male     guess=female   name=Matty                         \n",
      "correct=male     guess=female   name=Merry                         \n",
      "correct=male     guess=female   name=Micah                         \n",
      "correct=male     guess=female   name=Mickey                        \n",
      "correct=male     guess=female   name=Mordecai                      \n",
      "correct=male     guess=female   name=Myke                          \n",
      "correct=male     guess=female   name=Neddie                        \n",
      "correct=male     guess=female   name=Nickey                        \n",
      "correct=male     guess=female   name=Nikki                         \n",
      "correct=male     guess=female   name=Obadiah                       \n",
      "correct=male     guess=female   name=Orbadiah                      \n",
      "correct=male     guess=female   name=Peirce                        \n",
      "correct=male     guess=female   name=Pennie                        \n",
      "correct=male     guess=female   name=Prince                        \n",
      "correct=male     guess=female   name=Pryce                         \n",
      "correct=male     guess=female   name=Raleigh                       \n",
      "correct=male     guess=female   name=Ramsay                        \n",
      "correct=male     guess=female   name=Ramsey                        \n",
      "correct=male     guess=female   name=Randolph                      \n",
      "correct=male     guess=female   name=Randy                         \n",
      "correct=male     guess=female   name=Reilly                        \n",
      "correct=male     guess=female   name=Roarke                        \n",
      "correct=male     guess=female   name=Rocky                         \n",
      "correct=male     guess=female   name=Rodge                         \n",
      "correct=male     guess=female   name=Ronnie                        \n",
      "correct=male     guess=female   name=Rory                          \n",
      "correct=male     guess=female   name=Ruby                          \n",
      "correct=male     guess=female   name=Salomone                      \n",
      "correct=male     guess=female   name=Sammy                         \n",
      "correct=male     guess=female   name=Samuele                       \n",
      "correct=male     guess=female   name=Scarface                      \n",
      "correct=male     guess=female   name=Seth                          \n",
      "correct=male     guess=female   name=Sky                           \n",
      "correct=male     guess=female   name=Sloane                        \n",
      "correct=male     guess=female   name=Sollie                        \n",
      "correct=male     guess=female   name=Stanly                        \n",
      "correct=male     guess=female   name=Temple                        \n",
      "correct=male     guess=female   name=Terri                         \n",
      "correct=male     guess=female   name=Tobie                         \n",
      "correct=male     guess=female   name=Toby                          \n",
      "correct=male     guess=female   name=Toddie                        \n",
      "correct=male     guess=female   name=Toddy                         \n",
      "correct=male     guess=female   name=Troy                          \n",
      "correct=male     guess=female   name=Tully                         \n",
      "correct=male     guess=female   name=Udale                         \n",
      "correct=male     guess=female   name=Vasily                        \n",
      "correct=male     guess=female   name=Wally                         \n",
      "correct=male     guess=female   name=Walsh                         \n",
      "correct=male     guess=female   name=Wayne                         \n",
      "correct=male     guess=female   name=Welbie                        \n",
      "correct=male     guess=female   name=Weslie                        \n",
      "correct=male     guess=female   name=Winnie                        \n",
      "correct=male     guess=female   name=Witty                         \n",
      "correct=male     guess=female   name=Woodie                        \n",
      "correct=male     guess=female   name=Zach                          \n",
      "correct=male     guess=female   name=Zane                          \n",
      "correct=male     guess=female   name=Zebadiah                      \n",
      "correct=male     guess=female   name=Zolly                         \n"
     ]
    }
   ],
   "source": [
    "for (tag, guess, name) in sorted(errors):\n",
    "    print('correct={:<8} guess={:<8s} name={:<30}'.format(tag, guess, name))"
   ]
  },
  {
   "cell_type": "code",
   "execution_count": 17,
   "metadata": {},
   "outputs": [],
   "source": [
    "def gender_features(word):\n",
    "    return {'suffix1': word[-1:], 'suffix2': word[-2:]}"
   ]
  },
  {
   "cell_type": "code",
   "execution_count": 18,
   "metadata": {},
   "outputs": [
    {
     "name": "stdout",
     "output_type": "stream",
     "text": [
      "0.788\n"
     ]
    }
   ],
   "source": [
    "train_set = [(gender_features(n), gender) for (n, gender) in train_names]\n",
    "devtest_set = [(gender_features(n), gender) for (n, gender) in devtest_names]\n",
    "classifier = nltk.NaiveBayesClassifier.train(train_set)\n",
    "print(nltk.classify.accuracy(classifier, devtest_set))"
   ]
  },
  {
   "cell_type": "code",
   "execution_count": null,
   "metadata": {},
   "outputs": [],
   "source": []
  }
 ],
 "metadata": {
  "interpreter": {
   "hash": "7b4bc636ee042d386e556409d5ab59e91364ccfe764c79c057b7cf51885d1c0f"
  },
  "kernelspec": {
   "display_name": "Python 3.8.10 64-bit",
   "name": "python3"
  },
  "language_info": {
   "codemirror_mode": {
    "name": "ipython",
    "version": 3
   },
   "file_extension": ".py",
   "mimetype": "text/x-python",
   "name": "python",
   "nbconvert_exporter": "python",
   "pygments_lexer": "ipython3",
   "version": "3.8.10"
  },
  "orig_nbformat": 4
 },
 "nbformat": 4,
 "nbformat_minor": 2
}
