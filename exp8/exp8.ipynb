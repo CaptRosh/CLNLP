{
 "cells": [
  {
   "cell_type": "markdown",
   "metadata": {},
   "source": [
    "<h1>Neha Kulkarni</h1> \n",
    "<h2>A060 BTech. IT SEM 7</h2>\n",
    "\n",
    "<h3>Computational Linguistics and Natural Language Processing Lab <br>\n",
    "Experiment 8\n",
    "</h3>"
   ]
  },
  {
   "cell_type": "code",
   "execution_count": 1,
   "metadata": {},
   "outputs": [],
   "source": [
    "import nltk"
   ]
  },
  {
   "cell_type": "code",
   "execution_count": 2,
   "metadata": {},
   "outputs": [],
   "source": [
    "groucho_grammar = nltk.CFG.fromstring(\"\"\" \n",
    "S -> NP VP \n",
    "PP -> P NP \n",
    "NP -> Det N | Det N PP | 'I' \n",
    "VP -> V NP | VP PP \n",
    "Det -> 'an' | 'my' \n",
    "N -> 'elephant' | 'pajamas' \n",
    "V -> 'shot' \n",
    "P -> 'in' \n",
    "\"\"\") "
   ]
  },
  {
   "cell_type": "code",
   "execution_count": 3,
   "metadata": {},
   "outputs": [
    {
     "name": "stdout",
     "output_type": "stream",
     "text": [
      "(S\n",
      "  (NP I)\n",
      "  (VP\n",
      "    (VP (V shot) (NP (Det an) (N elephant)))\n",
      "    (PP (P in) (NP (Det my) (N pajamas)))))\n",
      "(S\n",
      "  (NP I)\n",
      "  (VP\n",
      "    (V shot)\n",
      "    (NP (Det an) (N elephant) (PP (P in) (NP (Det my) (N pajamas))))))\n"
     ]
    }
   ],
   "source": [
    "sent = ['I', 'shot', 'an', 'elephant', 'in', 'my', 'pajamas'] \n",
    "parser = nltk.ChartParser(groucho_grammar) \n",
    "for tree in parser.parse(sent): \n",
    "    print(tree) "
   ]
  },
  {
   "cell_type": "code",
   "execution_count": 4,
   "metadata": {},
   "outputs": [],
   "source": [
    "grammar1 = nltk.CFG.fromstring(\"\"\" \n",
    "S -> NP VP \n",
    "VP -> V NP | V NP PP \n",
    "PP -> P NP \n",
    "V -> \"saw\" | \"ate\" | \"walked\" \n",
    "NP -> \"John\" | \"Mary\" | \"Bob\" | Det N | Det N PP \n",
    "Det -> \"a\" | \"an\" | \"the\" | \"my\" \n",
    "N -> \"man\" | \"dog\" | \"cat\" | \"telescope\" | \"park\" \n",
    "P -> \"in\" | \"on\" | \"by\" | \"with\" \n",
    "\"\"\") "
   ]
  },
  {
   "cell_type": "code",
   "execution_count": 5,
   "metadata": {},
   "outputs": [
    {
     "name": "stdout",
     "output_type": "stream",
     "text": [
      "(S (NP Mary) (VP (V saw) (NP Bob)))\n"
     ]
    }
   ],
   "source": [
    "sent = \"Mary saw Bob\".split() \n",
    "rd_parser = nltk.RecursiveDescentParser(grammar1) \n",
    "for tree in rd_parser.parse(sent): \n",
    "    print(tree) "
   ]
  },
  {
   "cell_type": "code",
   "execution_count": 7,
   "metadata": {},
   "outputs": [
    {
     "name": "stdout",
     "output_type": "stream",
     "text": [
      "(S (NP Mary) (VP (V saw) (NP (Det a) (N dog))))\n"
     ]
    }
   ],
   "source": [
    "rd_parser = nltk.RecursiveDescentParser(grammar1) \n",
    "sent = 'Mary saw a dog'.split() \n",
    "for tree in rd_parser.parse(sent): \n",
    "    print(tree) "
   ]
  },
  {
   "cell_type": "code",
   "execution_count": 8,
   "metadata": {},
   "outputs": [
    {
     "name": "stdout",
     "output_type": "stream",
     "text": [
      "(S (NP Mary) (VP (V saw) (NP (Det a) (N dog))))\n"
     ]
    }
   ],
   "source": [
    "sr_parser = nltk.ShiftReduceParser(grammar1) \n",
    "sent = 'Mary saw a dog'.split() \n",
    "for tree in sr_parser.parse(sent): \n",
    "    print(tree) "
   ]
  },
  {
   "cell_type": "code",
   "execution_count": 9,
   "metadata": {},
   "outputs": [
    {
     "data": {
      "text/plain": [
       "[V -> 'shot']"
      ]
     },
     "execution_count": 9,
     "metadata": {},
     "output_type": "execute_result"
    }
   ],
   "source": [
    "text = ['I', 'shot', 'an', 'elephant', 'in', 'my', 'pajamas'] \n",
    "groucho_grammar.productions(rhs=text[1]) "
   ]
  },
  {
   "cell_type": "code",
   "execution_count": 15,
   "metadata": {},
   "outputs": [
    {
     "data": {
      "text/plain": [
       "[[None, NP, None, None, None, None, None, None],\n",
       " [None, None, V, None, None, None, None, None],\n",
       " [None, None, None, Det, None, None, None, None],\n",
       " [None, None, None, None, N, None, None, None],\n",
       " [None, None, None, None, None, P, None, None],\n",
       " [None, None, None, None, None, None, Det, None],\n",
       " [None, None, None, None, None, None, None, N],\n",
       " [None, None, None, None, None, None, None, None]]"
      ]
     },
     "metadata": {},
     "output_type": "display_data"
    },
    {
     "data": {
      "text/plain": [
       "['I', 'shot', 'an', 'elephant', 'in', 'my', 'pajamas']"
      ]
     },
     "metadata": {},
     "output_type": "display_data"
    }
   ],
   "source": [
    "def init_wfst(tokens, grammar): \n",
    "    numtokens = len(tokens) \n",
    "    wfst = [[None for i in range(numtokens+1)] for j in range(numtokens+1)] \n",
    "    for i in range(numtokens): \n",
    "        productions = grammar.productions(rhs=tokens[i]) \n",
    "        wfst[i][i+1] = productions[0].lhs() \n",
    "    return wfst \n",
    "\n",
    " \n",
    "\n",
    "def complete_wfst(wfst, tokens, grammar, trace=False): \n",
    "    index = dict((p.rhs(), p.lhs()) for p in grammar.productions()) \n",
    "    numtokens = len(tokens) \n",
    "    for span in range(2, numtokens+1): \n",
    "        for start in range(numtokens+1-span): \n",
    "            end = start + span \n",
    "            for mid in range(start+1, end): \n",
    "                nt1, nt2 = wfst[start][mid], wfst[mid][end] \n",
    "                if nt1 and nt2 and (nt1,nt2) in index: \n",
    "                    wfst[start][end] = index[(nt1,nt2)] \n",
    "                    if trace: \n",
    "                        print(\"[%s] %3s [%s] %3s [%s] ==> [%s] %3s [%s]\" % \\\n",
    "                        (start, nt1, mid, nt2, end, start, index[(nt1,nt2)], end))\n",
    "    return wfst \n",
    "\n",
    "    def display(wfst, tokens): \n",
    "        print('\\nWFST ' + ' '.join((\"%-4d\" % i) for i in range(1, len(wfst)))) \n",
    "        for i in range(len(wfst)-1): \n",
    "            print(\"%d   \" % i, end=\" \") \n",
    "            for j in range(1, len(wfst)): \n",
    "                print(\"%-4s\" % (wfst[i][j] or '.'), end=\" \") \n",
    "            print() \n",
    "\n",
    "tokens = \"I shot an elephant in my pajamas\".split() \n",
    "wfst0 = init_wfst(tokens, groucho_grammar) \n",
    "display(wfst0, tokens) "
   ]
  },
  {
   "cell_type": "code",
   "execution_count": 16,
   "metadata": {},
   "outputs": [
    {
     "name": "stdout",
     "output_type": "stream",
     "text": [
      "[2] Det [3]   N [4] ==> [2]  NP [4]\n",
      "[5] Det [6]   N [7] ==> [5]  NP [7]\n",
      "[1]   V [2]  NP [4] ==> [1]  VP [4]\n",
      "[4]   P [5]  NP [7] ==> [4]  PP [7]\n",
      "[0]  NP [1]  VP [4] ==> [0]   S [4]\n",
      "[1]  VP [4]  PP [7] ==> [1]  VP [7]\n",
      "[0]  NP [1]  VP [7] ==> [0]   S [7]\n"
     ]
    }
   ],
   "source": [
    "wfst1 = complete_wfst(wfst0, tokens, groucho_grammar, trace=True)"
   ]
  }
 ],
 "metadata": {
  "interpreter": {
   "hash": "4d6bbae3dd08ac7d696cc72f5e21e7c10177bbf41ffb8024d980bcbad5ce76df"
  },
  "kernelspec": {
   "display_name": "Python 3.8.6 64-bit (system)",
   "name": "python3"
  },
  "language_info": {
   "codemirror_mode": {
    "name": "ipython",
    "version": 3
   },
   "file_extension": ".py",
   "mimetype": "text/x-python",
   "name": "python",
   "nbconvert_exporter": "python",
   "pygments_lexer": "ipython3",
   "version": "3.8.6"
  },
  "orig_nbformat": 4
 },
 "nbformat": 4,
 "nbformat_minor": 2
}
