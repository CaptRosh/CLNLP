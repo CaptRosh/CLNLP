{
 "cells": [
  {
   "cell_type": "markdown",
   "metadata": {},
   "source": [
    "<h1>Neha Kulkarni</h1> \n",
    "<h2>A060 BTech. IT SEM 7</h2>\n",
    "\n",
    "<h3>Computational Linguistics and Natural Language Processing Lab <br>\n",
    "Experiment 1\n",
    "</h3>"
   ]
  },
  {
   "cell_type": "code",
   "execution_count": 1,
   "metadata": {},
   "outputs": [],
   "source": [
    "from playsound import playsound\n",
    "from gtts import gTTS\n",
    "import os"
   ]
  },
  {
   "cell_type": "code",
   "execution_count": 4,
   "metadata": {},
   "outputs": [],
   "source": [
    "os.system('rm -rf myfile.mp3')\n",
    "myobj = gTTS(text=\"Welcome to Natural Language Programming\", lang=\"en\", slow=False)\n",
    "myobj.save(\"myfile.mp3\")\n",
    "playsound(\"myfile.mp3\")"
   ]
  },
  {
   "cell_type": "code",
   "execution_count": null,
   "metadata": {},
   "outputs": [],
   "source": []
  }
 ],
 "metadata": {
  "interpreter": {
   "hash": "4d6bbae3dd08ac7d696cc72f5e21e7c10177bbf41ffb8024d980bcbad5ce76df"
  },
  "kernelspec": {
   "display_name": "Python 3.8.6 64-bit (system)",
   "name": "python3"
  },
  "language_info": {
   "codemirror_mode": {
    "name": "ipython",
    "version": 3
   },
   "file_extension": ".py",
   "mimetype": "text/x-python",
   "name": "python",
   "nbconvert_exporter": "python",
   "pygments_lexer": "ipython3",
   "version": "3.8.6"
  },
  "orig_nbformat": 4
 },
 "nbformat": 4,
 "nbformat_minor": 2
}
