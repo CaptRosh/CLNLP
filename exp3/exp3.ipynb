{
 "cells": [
  {
   "cell_type": "markdown",
   "metadata": {},
   "source": [
    "<h1>Neha Kulkarni</h1> \n",
    "<h2>A060 BTech. IT SEM 7</h2>\n",
    "\n",
    "<h3>Computational Linguistics and Natural Language Processing Lab <br>\n",
    "Experiment 3\n",
    "</h3>"
   ]
  },
  {
   "cell_type": "code",
   "execution_count": 1,
   "metadata": {},
   "outputs": [],
   "source": [
    "import nltk\n",
    "from nltk.tokenize import sent_tokenize, word_tokenize"
   ]
  },
  {
   "cell_type": "code",
   "execution_count": 4,
   "metadata": {},
   "outputs": [],
   "source": [
    "text = \"Welcome to Mukesh Patel School of Technology Management and Engineering. Have a good day\"\n",
    "tokenized = sent_tokenize(text)"
   ]
  },
  {
   "cell_type": "code",
   "execution_count": 5,
   "metadata": {},
   "outputs": [
    {
     "name": "stdout",
     "output_type": "stream",
     "text": [
      "['Welcome to Mukesh Patel School of Technology Management and Engineering.', 'Have a good day']\n"
     ]
    }
   ],
   "source": [
    "print(tokenized)"
   ]
  },
  {
   "cell_type": "code",
   "execution_count": 6,
   "metadata": {},
   "outputs": [
    {
     "name": "stdout",
     "output_type": "stream",
     "text": [
      "['Welcome', 'to', 'Mukesh', 'Patel', 'School', 'of', 'Technology', 'Management', 'and', 'Engineering', '.', 'Have', 'a', 'good', 'day']\n"
     ]
    }
   ],
   "source": [
    "print(word_tokenize(text))"
   ]
  },
  {
   "cell_type": "code",
   "execution_count": 7,
   "metadata": {},
   "outputs": [],
   "source": [
    "from nltk.corpus import stopwords"
   ]
  },
  {
   "cell_type": "code",
   "execution_count": 13,
   "metadata": {},
   "outputs": [
    {
     "data": {
      "text/plain": [
       "['Welcome',\n",
       " 'Mukesh',\n",
       " 'Patel',\n",
       " 'School',\n",
       " 'Technology',\n",
       " 'Management',\n",
       " 'Engineering',\n",
       " '.',\n",
       " 'Have',\n",
       " 'good',\n",
       " 'day']"
      ]
     },
     "execution_count": 13,
     "metadata": {},
     "output_type": "execute_result"
    }
   ],
   "source": [
    "no_stopwords = [word for word in word_tokenize(text) if word not in stopwords.words()]\n",
    "no_stopwords"
   ]
  },
  {
   "cell_type": "code",
   "execution_count": 14,
   "metadata": {},
   "outputs": [],
   "source": [
    "from nltk import pos_tag"
   ]
  },
  {
   "cell_type": "code",
   "execution_count": 15,
   "metadata": {},
   "outputs": [
    {
     "name": "stdout",
     "output_type": "stream",
     "text": [
      "[('Welcome', 'VB'), ('to', 'TO'), ('Mukesh', 'NNP'), ('Patel', 'NNP'), ('School', 'NNP'), ('of', 'IN'), ('Technology', 'NNP'), ('Management', 'NNP'), ('and', 'CC'), ('Engineering', 'NNP'), ('.', '.'), ('Have', 'VBP'), ('a', 'DT'), ('good', 'JJ'), ('day', 'NN')]\n"
     ]
    }
   ],
   "source": [
    "print(pos_tag(word_tokenize(text)))"
   ]
  },
  {
   "cell_type": "code",
   "execution_count": 33,
   "metadata": {},
   "outputs": [],
   "source": [
    "from nltk.tokenize import PunktSentenceTokenizer\n",
    "\n",
    "article = \"\"\"In a ‘small but significant step’ forward for Delhi Metro, the 850.8-metre stretch extension in Pink Line at East Delhi’s Trilokpuri, which had proved to be a bottleneck for the DMRC authorities for a long time on account of land acquisition issues, was inaugurated jointly on August 6 by union minister of housing and urban affairs Hardeep Singh Puri and Delhi chief minister Arvind Kejriwal.\n",
    "\n",
    "The two leaders jointly inaugurated the section between Mayur Vihar Pocket 1 and Trilokpuri Sanjay Lake stations, via video-conferencing.\n",
    "\n",
    "With this, the 59-km-long Majlis Park-Shiv Vihar corridor nicknamed the Ring Road Line spanning 38 stations, is fully operational.\n",
    "\n",
    "“The inauguration today of an 850.8 metres stretch extension might be small from the point of view of network length, but from the perspective of providing enhanced connectivity to people, this connection will play an extremely crucial role. The missing link in Trilokpuri is now being bridged to allow seamless and end to end travel through Delhi Metro’s longest corridor of 59 kilometers between Majlis Park and Shiv Vihar. Important transport hubs, markets, residential areas across the city will now get connected benefitting lakhs of passengers,” Puri said at the inauguration.\n",
    "\n",
    "“The last two years have been extremely difficult for all of us. The Covid – 19 pandemic has led to disruptions in work from time to time. Yet, Delhi Metro Rail Corporation is today ready with a new vital connection, thus further consolidating the footprint of the Metro in the national capital,” he said.\"\"\""
   ]
  },
  {
   "cell_type": "code",
   "execution_count": 34,
   "metadata": {},
   "outputs": [
    {
     "data": {
      "text/plain": [
       "[[('’', 'NNP'),\n",
       "  ('Delhi', 'NNP'),\n",
       "  ('Metro', 'NNP'),\n",
       "  ('Pink', 'NNP'),\n",
       "  ('Line', 'NNP'),\n",
       "  ('East', 'NNP'),\n",
       "  ('Delhi', 'NNP'),\n",
       "  ('’', 'NNP'),\n",
       "  ('Trilokpuri', 'NNP'),\n",
       "  ('DMRC', 'NNP'),\n",
       "  ('August', 'NNP'),\n",
       "  ('Hardeep', 'NNP'),\n",
       "  ('Singh', 'NNP'),\n",
       "  ('Puri', 'NNP'),\n",
       "  ('Delhi', 'NNP'),\n",
       "  ('Arvind', 'NNP'),\n",
       "  ('Kejriwal', 'NNP')],\n",
       " [('Mayur', 'NNP'),\n",
       "  ('Vihar', 'NNP'),\n",
       "  ('Pocket', 'NNP'),\n",
       "  ('Trilokpuri', 'NNP'),\n",
       "  ('Sanjay', 'NNP'),\n",
       "  ('Lake', 'NNP')],\n",
       " [('Majlis', 'NNP'),\n",
       "  ('Park-Shiv', 'NNP'),\n",
       "  ('Vihar', 'NNP'),\n",
       "  ('Ring', 'NNP'),\n",
       "  ('Road', 'NNP'),\n",
       "  ('Line', 'NNP')],\n",
       " [],\n",
       " [('Trilokpuri', 'NNP'),\n",
       "  ('Delhi', 'NNP'),\n",
       "  ('Metro', 'NNP'),\n",
       "  ('’', 'NNP'),\n",
       "  ('Majlis', 'NNP'),\n",
       "  ('Park', 'NNP'),\n",
       "  ('Shiv', 'NNP'),\n",
       "  ('Vihar', 'NNP')],\n",
       " [('”', 'NNP'), ('Puri', 'NNP')],\n",
       " [],\n",
       " [('Covid', 'NNP'), ('–', 'NNP')],\n",
       " [('Delhi', 'NNP'),\n",
       "  ('Metro', 'NNP'),\n",
       "  ('Rail', 'NNP'),\n",
       "  ('Corporation', 'NNP'),\n",
       "  ('Metro', 'NNP')]]"
      ]
     },
     "execution_count": 34,
     "metadata": {},
     "output_type": "execute_result"
    }
   ],
   "source": [
    "data = [nltk.pos_tag(nltk.word_tokenize(sent)) for sent in nltk.sent_tokenize(article)]\n",
    "nnp = [[word for word in data1 if word[1] == \"NNP\"] for data1 in data]\n",
    "nnp"
   ]
  },
  {
   "cell_type": "code",
   "execution_count": 35,
   "metadata": {},
   "outputs": [
    {
     "data": {
      "text/plain": [
       "[[('‘', 'JJ'),\n",
       "  ('small', 'JJ'),\n",
       "  ('significant', 'JJ'),\n",
       "  ('850.8-metre', 'JJ'),\n",
       "  ('long', 'JJ'),\n",
       "  ('urban', 'JJ'),\n",
       "  ('chief', 'JJ')],\n",
       " [],\n",
       " [('59-km-long', 'JJ'), ('operational', 'JJ')],\n",
       " [('stretch', 'JJ'), ('small', 'JJ'), ('enhanced', 'JJ'), ('crucial', 'JJ')],\n",
       " [],\n",
       " [('Important', 'JJ'), ('residential', 'JJ')],\n",
       " [('last', 'JJ'), ('difficult', 'JJ')],\n",
       " [],\n",
       " [('ready', 'JJ'), ('new', 'JJ'), ('vital', 'JJ'), ('national', 'JJ')]]"
      ]
     },
     "execution_count": 35,
     "metadata": {},
     "output_type": "execute_result"
    }
   ],
   "source": [
    "jj = [[word for word in data1 if word[1] == \"JJ\"] for data1 in data]\n",
    "jj"
   ]
  },
  {
   "cell_type": "code",
   "execution_count": 36,
   "metadata": {},
   "outputs": [
    {
     "data": {
      "text/plain": [
       "[[('had', 'VBD'), ('was', 'VBD')],\n",
       " [('inaugurated', 'VBD')],\n",
       " [('nicknamed', 'VBD')],\n",
       " [],\n",
       " [('s', 'VBD')],\n",
       " [('said', 'VBD')],\n",
       " [],\n",
       " [],\n",
       " [('said', 'VBD')]]"
      ]
     },
     "execution_count": 36,
     "metadata": {},
     "output_type": "execute_result"
    }
   ],
   "source": [
    "vbd = [[word for word in data1 if word[1] == \"VBD\"] for data1 in data]\n",
    "vbd"
   ]
  },
  {
   "cell_type": "code",
   "execution_count": 42,
   "metadata": {},
   "outputs": [
    {
     "name": "stdout",
     "output_type": "stream",
     "text": [
      "['play', 'play', 'player']\n"
     ]
    }
   ],
   "source": [
    "from nltk.stem import PorterStemmer\n",
    "ps = PorterStemmer()\n",
    "stem = [ps.stem(w) for w in ['Playing','Played','Player']]\n",
    "print(stem) "
   ]
  },
  {
   "cell_type": "code",
   "execution_count": 46,
   "metadata": {},
   "outputs": [
    {
     "name": "stdout",
     "output_type": "stream",
     "text": [
      "In a ‘small but significant step’ forward for Delhi Metro, the 850.8-metre stretch extension in Pink Line at East Delhi’s Trilokpuri, which had proved to be a bottleneck for the DMRC authorities for a long time on account of land acquisition issues, was inaugurated jointly on August 6 by union minister of housing and urban affairs Hardeep Singh Puri and Delhi chief minister Arvind Kejriwal.\n",
      "\n",
      "The two leaders jointly inaugurated the section between Mayur Vihar Pocket 1 and Trilokpuri Sanjay Lake stations, via video-conferencing.\n",
      "\n",
      "With this, the 59-km-long Majlis Park-Shiv Vihar corridor nicknamed the Ring Road Line spanning 38 stations, is fully operational.\n",
      "\n",
      "“The inauguration today of an 850.8 metres stretch extension might be small from the point of view of network length, but from the perspective of providing enhanced connectivity to people, this connection will play an extremely crucial role. The missing link in Trilokpuri is now being bridged to allow seamless and end to end travel through Delhi Metro’s longest corridor of 59 kilometers between Majlis Park and Shiv Vihar. Important transport hubs, markets, residential areas across the city will now get connected benefitting lakhs of passengers,” Puri said at the inauguration.\n",
      "\n",
      "“The last two years have been extremely difficult for all of us. The Covid – 19 pandemic has led to disruptions in work from time to time. Yet, Delhi Metro Rail Corporation is today ready with a new vital connection, thus further consolidating the footprint of the Metro in the national capital,” he said.\n"
     ]
    }
   ],
   "source": [
    "from nltk.stem import WordNetLemmatizer\n",
    "lem = WordNetLemmatizer()\n",
    "print(lem.lemmatize(article))"
   ]
  },
  {
   "cell_type": "code",
   "execution_count": 3,
   "metadata": {},
   "outputs": [
    {
     "name": "stdout",
     "output_type": "stream",
     "text": [
      "Word: Hi\n",
      "Definition: an expression of greeting\n",
      "Examples: ['every morning they exchanged polite hellos']\n",
      "\n",
      "Word: Hello\n",
      "Definition: an expression of greeting\n",
      "Examples: ['every morning they exchanged polite hellos']\n",
      "\n",
      "Word: Bye\n",
      "Definition: you advance to the next round in a tournament without playing an opponent\n",
      "Examples: ['he had a bye in the first round']\n",
      "\n"
     ]
    }
   ],
   "source": [
    "from nltk.corpus import wordnet\n",
    "for word in [\"Hi\",\"Hello\",\"Bye\"]:\n",
    "    print(f\"Word: {word}\")\n",
    "    obj = wordnet.synsets(word)\n",
    "    print(f\"Definition: {obj[0].definition()}\")\n",
    "    print(f\"Examples: {obj[0].examples()}\\n\")       "
   ]
  },
  {
   "cell_type": "code",
   "execution_count": 66,
   "metadata": {},
   "outputs": [
    {
     "name": "stdout",
     "output_type": "stream",
     "text": [
      "hour_angle\n",
      "HA\n",
      "have\n",
      "have_got\n",
      "hold\n",
      "have\n",
      "feature\n",
      "experience\n",
      "receive\n",
      "have\n",
      "get\n",
      "own\n",
      "have\n",
      "possess\n",
      "get\n",
      "let\n",
      "have\n",
      "consume\n",
      "ingest\n",
      "take_in\n",
      "take\n",
      "have\n",
      "have\n",
      "hold\n",
      "throw\n",
      "have\n",
      "make\n",
      "give\n",
      "have\n",
      "have\n",
      "have\n",
      "experience\n",
      "have\n",
      "induce\n",
      "stimulate\n",
      "cause\n",
      "have\n",
      "get\n",
      "make\n",
      "accept\n",
      "take\n",
      "have\n",
      "receive\n",
      "have\n",
      "suffer\n",
      "sustain\n",
      "have\n",
      "get\n",
      "have\n",
      "get\n",
      "make\n",
      "give_birth\n",
      "deliver\n",
      "bear\n",
      "birth\n",
      "have\n",
      "take\n",
      "have\n"
     ]
    }
   ],
   "source": [
    "for syn in wordnet.synsets('has'):\n",
    "    for lemma in syn.lemmas():\n",
    "        print(lemma.name())\n",
    "    if lemma.antonyms():\n",
    "        print(lemma.antonyms()[0].name())"
   ]
  },
  {
   "cell_type": "code",
   "execution_count": 2,
   "metadata": {},
   "outputs": [
    {
     "name": "stdout",
     "output_type": "stream",
     "text": [
      "Syn tag :  n\n",
      "Syn tag :  v\n",
      "Syn tag :  a\n",
      "Syntag :  r\n"
     ]
    }
   ],
   "source": [
    "syn = wordnet.synsets('hello')[0]\n",
    "print (\"Syn tag : \", syn.pos())\n",
    "syn = wordnet.synsets('doing')[0]\n",
    "print (\"Syn tag : \", syn.pos())\n",
    "syn = wordnet.synsets('beautiful')[0]\n",
    "print (\"Syn tag : \", syn.pos())\n",
    "syn = wordnet.synsets('quickly')[0]\n",
    "print (\"Syntag : \", syn.pos())"
   ]
  },
  {
   "cell_type": "code",
   "execution_count": null,
   "metadata": {},
   "outputs": [],
   "source": []
  }
 ],
 "metadata": {
  "interpreter": {
   "hash": "4d6bbae3dd08ac7d696cc72f5e21e7c10177bbf41ffb8024d980bcbad5ce76df"
  },
  "kernelspec": {
   "display_name": "Python 3.8.6 64-bit (system)",
   "name": "python3"
  },
  "language_info": {
   "codemirror_mode": {
    "name": "ipython",
    "version": 3
   },
   "file_extension": ".py",
   "mimetype": "text/x-python",
   "name": "python",
   "nbconvert_exporter": "python",
   "pygments_lexer": "ipython3",
   "version": "3.8.6"
  },
  "orig_nbformat": 4
 },
 "nbformat": 4,
 "nbformat_minor": 2
}
